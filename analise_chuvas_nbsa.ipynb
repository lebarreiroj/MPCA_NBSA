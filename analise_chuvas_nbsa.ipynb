{
 "cells": [
  {
   "cell_type": "markdown",
   "id": "8dea0fc3-a42d-48e0-b1a5-e50ac040a50c",
   "metadata": {},
   "source": [
    "# Shape Files dos biomas\n",
    "\n",
    "http://terrabrasilis.dpi.inpe.br/downloads/\n"
   ]
  },
  {
   "cell_type": "markdown",
   "id": "ebcddf5f-6e78-426a-a5e4-6e305c341596",
   "metadata": {},
   "source": [
    "# SEÇÃO TESTE 1"
   ]
  },
  {
   "cell_type": "code",
   "execution_count": null,
   "id": "e6b14dd9-cb7c-4a52-8d3b-35b709030c7a",
   "metadata": {},
   "outputs": [],
   "source": [
    "##########################\n",
    "# imports\n",
    "\n",
    "import pandas as pd\n",
    "import geopandas as gpd\n",
    "import folium\n",
    "from folium.plugins import HeatMap, HeatMapWithTime, MarkerCluster\n",
    "from shapely.geometry import Point, Polygon\n",
    "import warnings\n",
    "warnings.filterwarnings(\"ignore\")"
   ]
  },
  {
   "cell_type": "code",
   "execution_count": null,
   "id": "9bd13819-0598-4a45-addd-9be77ff7c8c9",
   "metadata": {},
   "outputs": [],
   "source": [
    "##########################\n",
    "# Funções e Procedures\n",
    "\n",
    "# Carga de Shape Files\n",
    "def shape2map(shp, mapa, bioma, color):\n",
    "    # imports\n",
    "    readedshape = gpd.read_file(shp)\n",
    "    geoPath = readedshape.geometry.to_json()\n",
    "    #poligonos = folium.features.GeoJson(geoPath)\n",
    "    #mapa.add_child(poligonos)\n",
    "    \n",
    "    folium.GeoJson(geoPath,\n",
    "               style_function=lambda x, color=color: {'color': color,\n",
    "                                                      'weight': 0.5,\n",
    "                                                      'fillOpacity': 0.25}\n",
    "                      ).add_to(mapa)\n",
    "\n",
    "    return mapa\n",
    "\n"
   ]
  },
  {
   "cell_type": "code",
   "execution_count": null,
   "id": "a8f83712-8930-4ba2-a85f-82a018442e94",
   "metadata": {},
   "outputs": [],
   "source": [
    "##########################\n",
    "# criar o mapa base\n",
    "\n",
    "my_map = folium.Map(\n",
    "                location=(\n",
    "                           -15.793836, -47.882721\n",
    "                        ),\n",
    "                zoom_start=4)\n",
    "            "
   ]
  },
  {
   "cell_type": "code",
   "execution_count": null,
   "id": "3c723b23-a0fc-4083-8632-376b7f8604fd",
   "metadata": {},
   "outputs": [],
   "source": [
    "# Driver\n",
    "#gpd.io.file.fiona.drvsupport.supported_drivers['SHP'] = 'rw'\n"
   ]
  },
  {
   "cell_type": "code",
   "execution_count": null,
   "id": "a4f72b20-ecb5-467d-81d3-e230e80f02ce",
   "metadata": {},
   "outputs": [],
   "source": [
    "##########################\n",
    "# Polígono do Bioma Amazônico\n",
    "\n",
    "# Arquivo SHP\n",
    "border = './dados/amazonia_border/amazon_biome_border.shp'\n",
    "\n",
    "# Adicionar ao Mapa\n",
    "my_map = shape2map(border, my_map, 'Amazônia', 'green')\n",
    "\n",
    "# Criar Data Frame\n",
    "mapa_amazonia = gpd.read_file(border, driver='SHP')\n",
    "mapa_amazonia[\"nome_bioma\"] = 'Amazônia'\n"
   ]
  },
  {
   "cell_type": "code",
   "execution_count": null,
   "id": "71eaacc2-fd24-4a39-9260-e4924a56e1fb",
   "metadata": {},
   "outputs": [],
   "source": [
    "##########################\n",
    "# Polígono do Bioma Caatinga\n",
    "\n",
    "# Arquivo SHP\n",
    "border = './dados/caatinga_border/caatinga_border.shp'\n",
    "\n",
    "# Adicionar ao Mapa\n",
    "my_map = shape2map(border, my_map, 'Caatinga', 'yellow')\n",
    "\n",
    "# Criar Data Frame\n",
    "mapa_caatinga = gpd.read_file(border, driver='SHP')\n",
    "mapa_caatinga[\"nome_bioma\"] = 'Caatinga'"
   ]
  },
  {
   "cell_type": "code",
   "execution_count": null,
   "id": "e1cd818f-ef77-4104-a6d6-e6119a468f96",
   "metadata": {},
   "outputs": [],
   "source": [
    "##########################\n",
    "# Polígono do Bioma Cerrado\n",
    "\n",
    "# Arquivo SHP\n",
    "border = './dados/cerrado_border/cerrado_border.shp'\n",
    "\n",
    "# Adicionar ao Mapa\n",
    "my_map = shape2map(border, my_map, 'Cerrado', 'Peru')\n",
    "\n",
    "# Criar Data Frame\n",
    "mapa_cerrado = gpd.read_file(border, driver='SHP')\n",
    "mapa_cerrado[\"nome_bioma\"] = 'Cerrado'\n"
   ]
  },
  {
   "cell_type": "code",
   "execution_count": null,
   "id": "9ded575c-a76b-42fd-8ba3-d1f6c50c37bd",
   "metadata": {},
   "outputs": [],
   "source": [
    "##########################\n",
    "# Polígono do Bioma Mata Atlântica\n",
    "\n",
    "# Arquivo SHP\n",
    "border = './dados/mata_atlantica_border/mata_atlantica_border.shp'\n",
    "\n",
    "# Adicionar ao mapa\n",
    "my_map = shape2map(border, my_map, 'Mata Atlântica', 'LawnGreen')\n",
    "\n",
    "# Criar Data Frame\n",
    "mapa_mata_atlantica = gpd.read_file(border, driver='SHP')\n",
    "mapa_mata_atlantica[\"nome_bioma\"] = 'Mata Atlântica'"
   ]
  },
  {
   "cell_type": "code",
   "execution_count": null,
   "id": "218a015a-e4f6-49d4-82ef-e32cdc45bc01",
   "metadata": {},
   "outputs": [],
   "source": [
    "##########################\n",
    "# Polígono do Bioma Pampa\n",
    "\n",
    "# Arquivos SHP\n",
    "border = './dados/pampa_border/biome_border.shp'\n",
    "\n",
    "# Adicionar ao Mapa\n",
    "my_map = shape2map(border, my_map, 'Pampa', 'DeepSkyBlue')\n",
    "\n",
    "# Criar Data Frame\n",
    "mapa_pampa = gpd.read_file(border, driver='SHP')\n",
    "mapa_pampa[\"nome_bioma\"] = \"Pampa\""
   ]
  },
  {
   "cell_type": "code",
   "execution_count": null,
   "id": "732a36b0-42f5-44c4-881f-e55d34a19a40",
   "metadata": {},
   "outputs": [],
   "source": [
    "##########################\n",
    "# Polígono do Bioma Pantanal\n",
    "\n",
    "# Arquivo SHP\n",
    "border = './dados/pantanal_border/biome_border.shp'\n",
    "\n",
    "# Adicionar ao Mapa\n",
    "my_map = shape2map(border, my_map, 'Pantanal', 'MediumPurple')\n",
    "\n",
    "# Criar Data Frame\n",
    "mapa_pantanal = gpd.read_file(border, driver='SHP')\n",
    "mapa_pantanal[\"nome_bioma\"] = \"Pantanal\""
   ]
  },
  {
   "cell_type": "code",
   "execution_count": null,
   "id": "6a230efe-30f3-445a-a7e2-43b8a4187147",
   "metadata": {},
   "outputs": [],
   "source": [
    "##########################\n",
    "# Tratar Data Frames dos Biomas\n",
    "\n",
    "# Array com os Data Frames\n",
    "arrays_df = [mapa_amazonia, mapa_cerrado, mapa_caatinga, mapa_mata_atlantica, mapa_pantanal, mapa_pampa]\n",
    "\n",
    "# Concatenar Data Frames\n",
    "df_mapa = pd.concat(arrays_df)\n",
    "\n",
    "df_mapa.reset_index(inplace=True)\n",
    "df_mapa.drop(columns=['index', 'id', 'bioma', 'cd_bioma', 'ID', 'NAME'], inplace=True)\n"
   ]
  },
  {
   "cell_type": "code",
   "execution_count": null,
   "id": "6a07fb65-8f2d-41a2-92f4-1d437121ff8a",
   "metadata": {},
   "outputs": [],
   "source": [
    "##########################\n",
    "# Resultado da carga dos polígonos dos biomas\n",
    "\n",
    "df_mapa"
   ]
  },
  {
   "cell_type": "code",
   "execution_count": null,
   "id": "535bf433-b620-4222-94b6-1c3bcb7ffaef",
   "metadata": {},
   "outputs": [],
   "source": [
    "##########################\n",
    "# Carregar os dados de estações\n",
    "\n",
    "# \n",
    "\n",
    "##########################\n",
    "# Dados de teste\n",
    "localizacoes = pd.read_csv('./dados/geo_localizacao.csv', sep=';')\n",
    "localizacoes"
   ]
  },
  {
   "cell_type": "code",
   "execution_count": null,
   "id": "98fcfbe5-3c3b-4070-aa5b-aea4325e1513",
   "metadata": {},
   "outputs": [],
   "source": [
    "##########################\n",
    "# Array com os pontos de localização latitude e longitude\n",
    "\n",
    "# rever código para incluir informações das estações \n",
    "\n",
    "# dados de teste\n",
    "pontos_geometricos = []\n",
    "for xy in zip(localizacoes['longitude'], localizacoes['latitude']):\n",
    "    pontos_geometricos.append(Point(xy))"
   ]
  },
  {
   "cell_type": "code",
   "execution_count": null,
   "id": "a4aed3c5-077b-4500-ad37-7436a0bc78c3",
   "metadata": {},
   "outputs": [],
   "source": [
    "##########################\n",
    "# formata dados de localização para processo de identificação dos pontos no polígono\n",
    "\n",
    "# Formatação dos pontos\n",
    "localizacoes_geo = gpd.GeoDataFrame(localizacoes,\n",
    "                                    crs = {'init': 'epsg:4326'},\n",
    "                                    geometry = pontos_geometricos)\n",
    "# Impressão do resultado (cria o campo geometry)\n",
    "localizacoes_geo"
   ]
  },
  {
   "cell_type": "code",
   "execution_count": null,
   "id": "b70f8688-4d5f-49e6-80d0-06a6c0221680",
   "metadata": {},
   "outputs": [],
   "source": []
  },
  {
   "cell_type": "code",
   "execution_count": null,
   "id": "c8f26788-1e25-46c9-9447-a837fe6ff845",
   "metadata": {},
   "outputs": [],
   "source": [
    "##########################\n",
    "# Validar pontos geográficos nos biomas\n",
    "\n",
    "# iniciar variável\n",
    "localizacoes_geo[\"pertence_ao_bioma\"] = \"\"\n",
    "\n",
    "# Varrer pontos e classificar biomas\n",
    "for i in range(0, len(localizacoes_geo)):\n",
    "    ponto = localizacoes_geo.geometry.loc[i]\n",
    "    check = df_mapa.contains(ponto).values\n",
    "    cont = 0\n",
    "    bioma = \"\"\n",
    "    for x in (check):\n",
    "        if (x == True) and (cont == 0):\n",
    "            bioma = 'Amazônia'\n",
    "        elif (x == True) and (cont == 1):\n",
    "            bioma = 'Cerrado'\n",
    "        elif (x == True) and (cont == 2):\n",
    "            bioma = 'Caatinga'\n",
    "        elif (x == True) and (cont == 3):\n",
    "            bioma = 'Mata Atlântica'\n",
    "        elif (x == True) and (cont == 4):\n",
    "            bioma = 'Pantanal'\n",
    "        elif (x == True) and (cont == 5):\n",
    "            bioma = 'Pampa'\n",
    "        cont = cont + 1\n",
    "    # Atualiza informação    \n",
    "    localizacoes_geo[\"pertence_ao_bioma\"].loc[i] = bioma\n",
    "\n",
    "# imprimir resultado\n",
    "localizacoes_geo"
   ]
  },
  {
   "cell_type": "code",
   "execution_count": null,
   "id": "f643bd39-b614-4134-921c-5000791e73f3",
   "metadata": {},
   "outputs": [],
   "source": [
    "\n",
    "pontos = localizacoes_geo[['latitude', 'longitude']].values.tolist()\n",
    "\n",
    "\n",
    "marker_cluster = MarkerCluster().add_to(my_map)\n",
    "for point in pontos:\n",
    "    \n",
    "    folium.Marker(\n",
    "            location=[point[0], point[1]],\n",
    "            popup= 'testes',\n",
    "            icon=folium.Icon(color=\"green\", icon=\"ok-sign\"),\n",
    "            ).add_to(marker_cluster)\n",
    "\n",
    "my_map\n"
   ]
  },
  {
   "cell_type": "markdown",
   "id": "cb9dd35b-f403-4c87-a999-afd8f2dcac56",
   "metadata": {},
   "source": [
    "# SEÇÃO TESTE 2"
   ]
  },
  {
   "cell_type": "markdown",
   "id": "66eaeb28-6097-4579-a3ec-becdbf452d38",
   "metadata": {
    "tags": []
   },
   "source": [
    "### SEGUIR ESTE EXEMPLO\n",
    "\n",
    "O algoritimo de validação foi retirado deste exemplo\n",
    "\n",
    "https://egmara-santos.medium.com/utilizando-python-para-verificar-coordenadas-geogr%C3%A1ficas-em-um-mapa-kml-c4d61541e5ce"
   ]
  }
 ],
 "metadata": {
  "kernelspec": {
   "display_name": "Python 3 (ipykernel)",
   "language": "python",
   "name": "python3"
  },
  "language_info": {
   "codemirror_mode": {
    "name": "ipython",
    "version": 3
   },
   "file_extension": ".py",
   "mimetype": "text/x-python",
   "name": "python",
   "nbconvert_exporter": "python",
   "pygments_lexer": "ipython3",
   "version": "3.9.12"
  }
 },
 "nbformat": 4,
 "nbformat_minor": 5
}
